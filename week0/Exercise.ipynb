{
 "cells": [
  {
   "cell_type": "markdown",
   "source": [],
   "metadata": {
    "collapsed": false
   }
  },
  {
   "cell_type": "markdown",
   "source": [
    "请仔细复习并认真完成各个题目。多参考资料和思考。完成所有练习后，将所有的cell运行一遍，将会在最下面的cell显示结果。"
   ],
   "metadata": {
    "collapsed": false
   }
  },
  {
   "cell_type": "markdown",
   "source": [
    "## 1.1\n",
    "输入：一个包含数字的列表\n",
    "输出：返回列表中的最大数字\n"
   ],
   "metadata": {
    "collapsed": false
   }
  },
  {
   "cell_type": "code",
   "execution_count": 32,
   "outputs": [],
   "source": [
    "from typing import List\n",
    "\n",
    "\n",
    "def get_max(numbers: List):\n",
    "    # TODO\n",
    "    pass"
   ],
   "metadata": {
    "collapsed": false
   }
  },
  {
   "cell_type": "markdown",
   "source": [
    "## 1.2\n",
    "输入：一个正整数\n",
    "输出：判断这个正整数是否是回文数\n",
    "Eg. 121, 22, 101都是回文数，即正反书写都是一样的。"
   ],
   "metadata": {
    "collapsed": false
   }
  },
  {
   "cell_type": "code",
   "execution_count": 33,
   "outputs": [],
   "source": [
    "def is_palindrome(number: int) -> bool:\n",
    "    # TODO\n",
    "    pass"
   ],
   "metadata": {
    "collapsed": false
   }
  },
  {
   "cell_type": "markdown",
   "source": [
    "## 1.3\n",
    "输入：一个自然数\n",
    "输出：判断这个自然数是否是质数"
   ],
   "metadata": {
    "collapsed": false
   }
  },
  {
   "cell_type": "code",
   "execution_count": 34,
   "outputs": [],
   "source": [
    "def is_prime(numbers: int) -> bool:\n",
    "    # TODO\n",
    "    pass"
   ],
   "metadata": {
    "collapsed": false
   }
  },
  {
   "cell_type": "markdown",
   "source": [
    "## 1.4\n",
    "输入：一个字符串\n",
    "输出：这个字符串中出现最多次数的字符，有多个字符时，返回任意字符均可。"
   ],
   "metadata": {
    "collapsed": false
   }
  },
  {
   "cell_type": "code",
   "execution_count": 35,
   "outputs": [],
   "source": [
    "def get_max_char(text: str):\n",
    "    # TODO\n",
    "    pass"
   ],
   "metadata": {
    "collapsed": false
   }
  },
  {
   "cell_type": "markdown",
   "source": [
    "# 判分部分，请勿改动"
   ],
   "metadata": {
    "collapsed": false
   }
  },
  {
   "cell_type": "code",
   "execution_count": 36,
   "outputs": [],
   "source": [
    "# 请不要改动下面的代码！！！所有题目已经在上面了。\n",
    "correct = 0\n",
    "total = 100\n",
    "\n",
    "\n",
    "def get_total():\n",
    "    print(f'结果：{correct}/{total}')\n",
    "    if correct < 60:\n",
    "        print(\"成绩较低，继续加油！\")\n",
    "    elif correct > 90:\n",
    "        print(\"本次练习完成不错！\")\n",
    "\n",
    "\n",
    "def ans1(numbers: List):\n",
    "    return max(numbers)\n",
    "\n",
    "\n",
    "def ans2(num):\n",
    "    str_num = str(num)\n",
    "    return str_num == str_num[::-1]\n",
    "\n",
    "\n",
    "def ans3(num):\n",
    "    for i in range(2, num):\n",
    "        if num % i == 0:\n",
    "            return False\n",
    "    return True\n",
    "\n",
    "\n",
    "def ans4(text):\n",
    "    dict_char = {}\n",
    "    for ch in text:\n",
    "        if ch in dict_char.keys():\n",
    "            dict_char[ch] += 1\n",
    "        else:\n",
    "            dict_char[ch] = 1\n",
    "    ans = sorted(dict_char.items(), key=lambda x: x[0], reverse=True)\n",
    "    ret = []\n",
    "    for ele in ans:\n",
    "        if ele[1] == ans[0][1]:\n",
    "            ret.append(ele[0])\n",
    "        else:\n",
    "            return ret\n",
    "\n",
    "\n",
    "def check1():\n",
    "    if get_max([1, 45, 2]) == ans1([1, 45, 2]):\n",
    "        correct += 25\n",
    "        print(\"Q1: 25/25\")\n",
    "    else:\n",
    "        print(\"Q1: 0/25\")\n",
    "\n",
    "\n",
    "def check2():\n",
    "    if ans2(121) == is_palindrome(121) and ans2(12055) == is_palindrome(12055):\n",
    "        correct += 25\n",
    "        print(\"Q2: 25/25\")\n",
    "    else:\n",
    "        print(\"Q2: 0/25\")\n",
    "\n",
    "\n",
    "def check3():\n",
    "    if ans3(287) == is_prime(287) and ans3(100) == is_prime(100) and ans3(17) == is_prime(17):\n",
    "        correct += 25\n",
    "        print(\"Q3: 25/25\")\n",
    "    else:\n",
    "        print(\"Q3: 0/25\")\n",
    "\n",
    "\n",
    "def check4():\n",
    "    if get_max_char(\"aabbccccc\") in ans4(\"aabbccccc\") and get_max_char(\"aabbbccc\") in ans4(\"aabbbccc\"):\n",
    "        correct += 25\n",
    "        print(\"Q4: 25/25\")\n",
    "    else:\n",
    "        print(\"Q4: 0/25\")\n"
   ],
   "metadata": {
    "collapsed": false
   }
  },
  {
   "cell_type": "code",
   "execution_count": 37,
   "outputs": [
    {
     "name": "stdout",
     "output_type": "stream",
     "text": [
      "Q1: 0/25\n",
      "Q2: 0/25\n",
      "Q3: 0/25\n",
      "Q4: 0/25\n",
      "结果：0/100\n",
      "成绩较低，继续加油！\n"
     ]
    }
   ],
   "source": [
    "check1()\n",
    "check2()\n",
    "check3()\n",
    "check4()\n",
    "get_total()"
   ],
   "metadata": {
    "collapsed": false
   }
  },
  {
   "cell_type": "code",
   "execution_count": 37,
   "outputs": [],
   "source": [],
   "metadata": {
    "collapsed": false
   }
  }
 ],
 "metadata": {
  "kernelspec": {
   "display_name": "Python 3",
   "language": "python",
   "name": "python3"
  },
  "language_info": {
   "codemirror_mode": {
    "name": "ipython",
    "version": 2
   },
   "file_extension": ".py",
   "mimetype": "text/x-python",
   "name": "python",
   "nbconvert_exporter": "python",
   "pygments_lexer": "ipython2",
   "version": "2.7.6"
  }
 },
 "nbformat": 4,
 "nbformat_minor": 0
}
